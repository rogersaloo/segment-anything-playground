{
 "cells": [
  {
   "attachments": {},
   "cell_type": "markdown",
   "metadata": {},
   "source": [
    "## Overview\n",
    "The aim is to take Segment Anything Model and fine tune it to a specific application. \n",
    "\n",
    "### Dataset\n",
    "I use the MVTec AD dataset specifically the\n",
    " bottles dataset from [kaggle](https://www.kaggle.com/datasets/ipythonx/mvtec-adsince)\n",
    "I feel that the data is unlikely to have seen by SAM. Even if the data was seen the aim of the repo is just to showcase fine-tuning for SAM. \n",
    "The dataset has precise ground truth segmentation masks and create bounding boxes on them which can be used as prompts to SAM for segmentation.\n",
    "\n",
    "I adopt most of the code implementation from encords open-source framework by Alex Bonnet for computer vision here https://github.com/encord-team/encord-active)."
   ]
  },
  {
   "cell_type": "code",
   "execution_count": null,
   "metadata": {},
   "outputs": [],
   "source": [
    "# Install the weights\n",
    "! pip install kaggle &> /dev/null\n",
    "! pip install torch torchvision &> /dev/null\n",
    "! pip install opencv-python pycocotools matplotlib onnxruntime onnx &> /dev/null\n",
    "! pip install git+https://github.com/facebookresearch/segment-anything.git &> /dev/null\n",
    "! wget https://dl.fbaipublicfiles.com/segment_anything/sam_vit_b_01ec64.pth &> /dev/null"
   ]
  }
 ],
 "metadata": {
  "kernelspec": {
   "display_name": "venv",
   "language": "python",
   "name": "python3"
  },
  "language_info": {
   "name": "python",
   "version": "3.9.6 (default, Sep 26 2022, 11:37:49) \n[Clang 14.0.0 (clang-1400.0.29.202)]"
  },
  "orig_nbformat": 4,
  "vscode": {
   "interpreter": {
    "hash": "c5c5dcd21f70bd32f621401787e991fec441b682bd5f9441945b9f0d6ae84abd"
   }
  }
 },
 "nbformat": 4,
 "nbformat_minor": 2
}
